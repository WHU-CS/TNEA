{
 "cells": [
  {
   "cell_type": "markdown",
   "metadata": {},
   "source": [
    "# TTIE"
   ]
  },
  {
   "cell_type": "code",
   "execution_count": 4,
   "metadata": {},
   "outputs": [],
   "source": [
    "# TTIE algorithm\n",
    "import numpy as np\n",
    "\n",
    "def TTIE(alph):\n",
    "    \n",
    "    HQ = np.zeros((64))\n",
    "    TTIE = np.zeros((64,64))\n",
    "\n",
    "    IFs = []\n",
    "\n",
    "    for i in range(64):\n",
    "        ad_matrix = np.zeros((3,3))\n",
    "        dd = 0b000001\n",
    "        if i & dd == dd:\n",
    "            ad_matrix[0,2] = 1\n",
    "        dd = 0b000010\n",
    "        if i & dd == dd:\n",
    "            ad_matrix[1,2] = 1\n",
    "        dd = 0b000100\n",
    "        if i & dd == dd:\n",
    "            ad_matrix[2,0] = 1\n",
    "        dd = 0b001000\n",
    "        if i & dd == dd:\n",
    "            ad_matrix[1,0] = 1\n",
    "        dd = 0b010000\n",
    "        if i & dd == dd:\n",
    "            ad_matrix[2,1] = 1\n",
    "        dd = 0b100000\n",
    "        if i & dd == dd:\n",
    "            ad_matrix[0,1] = 1\n",
    "    \n",
    "        u_ad_matrix = np.zeros((3,3))\n",
    "\n",
    "        for i in range(3):\n",
    "            for j in range(3):\n",
    "                if ad_matrix[i,j] == 1:\n",
    "                    u_ad_matrix[i,j] = 1\n",
    "                    u_ad_matrix[j,i] = 1\n",
    "        num = ad_matrix.sum()\n",
    "        close = 0\n",
    "        if u_ad_matrix[0,1] == 1 and u_ad_matrix[1,2] == 1 and u_ad_matrix[2,0] == 1:\n",
    "            close = 1\n",
    "        \n",
    "        IF = num + close * alph\n",
    "        IFs.append(IF)\n",
    "    \n",
    "    for i in range(64):\n",
    "        IFs[i] =( IFs[i] - 0 ) / (6 + alph)\n",
    "        \n",
    "    for i in range(64):\n",
    "        for j in range(64):\n",
    "            TTIE[i,j] = pow((abs(IFs[i]-IFs[j]) + 1), (IFs[j] - IFs[i]))\n",
    "    return TTIE, IFs"
   ]
  },
  {
   "cell_type": "code",
   "execution_count": 5,
   "metadata": {},
   "outputs": [],
   "source": [
    "TTIE, IFs= TTIE(3)"
   ]
  },
  {
   "cell_type": "code",
   "execution_count": 11,
   "metadata": {},
   "outputs": [
    {
     "data": {
      "text/plain": [
       "array([[1.        , 1.01177552, 1.01177552, ..., 1.76001679, 1.76001679,\n",
       "        2.        ],\n",
       "       [0.98836153, 1.        , 1.        , ..., 1.56440482, 1.56440482,\n",
       "        1.76001679],\n",
       "       [0.98836153, 1.        , 1.        , ..., 1.56440482, 1.56440482,\n",
       "        1.76001679],\n",
       "       ...,\n",
       "       [0.5681764 , 0.63922074, 0.63922074, ..., 1.        , 1.        ,\n",
       "        1.01177552],\n",
       "       [0.5681764 , 0.63922074, 0.63922074, ..., 1.        , 1.        ,\n",
       "        1.01177552],\n",
       "       [0.5       , 0.5681764 , 0.5681764 , ..., 0.98836153, 0.98836153,\n",
       "        1.        ]])"
      ]
     },
     "execution_count": 11,
     "metadata": {},
     "output_type": "execute_result"
    }
   ],
   "source": [
    "TTIE"
   ]
  },
  {
   "cell_type": "code",
   "execution_count": 8,
   "metadata": {},
   "outputs": [
    {
     "data": {
      "text/plain": [
       "[0.0,\n",
       " 0.1111111111111111,\n",
       " 0.1111111111111111,\n",
       " 0.2222222222222222,\n",
       " 0.1111111111111111,\n",
       " 0.2222222222222222,\n",
       " 0.2222222222222222,\n",
       " 0.3333333333333333,\n",
       " 0.1111111111111111,\n",
       " 0.2222222222222222,\n",
       " 0.2222222222222222,\n",
       " 0.6666666666666666,\n",
       " 0.2222222222222222,\n",
       " 0.3333333333333333,\n",
       " 0.6666666666666666,\n",
       " 0.7777777777777778,\n",
       " 0.1111111111111111,\n",
       " 0.2222222222222222,\n",
       " 0.2222222222222222,\n",
       " 0.3333333333333333,\n",
       " 0.2222222222222222,\n",
       " 0.3333333333333333,\n",
       " 0.3333333333333333,\n",
       " 0.4444444444444444,\n",
       " 0.2222222222222222,\n",
       " 0.6666666666666666,\n",
       " 0.3333333333333333,\n",
       " 0.7777777777777778,\n",
       " 0.6666666666666666,\n",
       " 0.7777777777777778,\n",
       " 0.7777777777777778,\n",
       " 0.8888888888888888,\n",
       " 0.1111111111111111,\n",
       " 0.2222222222222222,\n",
       " 0.2222222222222222,\n",
       " 0.6666666666666666,\n",
       " 0.2222222222222222,\n",
       " 0.3333333333333333,\n",
       " 0.6666666666666666,\n",
       " 0.7777777777777778,\n",
       " 0.2222222222222222,\n",
       " 0.3333333333333333,\n",
       " 0.3333333333333333,\n",
       " 0.7777777777777778,\n",
       " 0.3333333333333333,\n",
       " 0.4444444444444444,\n",
       " 0.7777777777777778,\n",
       " 0.8888888888888888,\n",
       " 0.2222222222222222,\n",
       " 0.6666666666666666,\n",
       " 0.3333333333333333,\n",
       " 0.7777777777777778,\n",
       " 0.6666666666666666,\n",
       " 0.7777777777777778,\n",
       " 0.7777777777777778,\n",
       " 0.8888888888888888,\n",
       " 0.3333333333333333,\n",
       " 0.7777777777777778,\n",
       " 0.4444444444444444,\n",
       " 0.8888888888888888,\n",
       " 0.7777777777777778,\n",
       " 0.8888888888888888,\n",
       " 0.8888888888888888,\n",
       " 1.0]"
      ]
     },
     "execution_count": 8,
     "metadata": {},
     "output_type": "execute_result"
    }
   ],
   "source": [
    "IFs"
   ]
  },
  {
   "cell_type": "code",
   "execution_count": 9,
   "metadata": {},
   "outputs": [
    {
     "data": {
      "text/plain": [
       "(64, 64)"
      ]
     },
     "execution_count": 9,
     "metadata": {},
     "output_type": "execute_result"
    }
   ],
   "source": [
    "TTIE.shape"
   ]
  },
  {
   "cell_type": "code",
   "execution_count": 8,
   "metadata": {},
   "outputs": [
    {
     "data": {
      "image/png": "[encoded data removed]",
      "text/plain": [
       "<Figure size 432x288 with 2 Axes>"
      ]
     },
     "metadata": {
      "needs_background": "light"
     },
     "output_type": "display_data"
    }
   ],
   "source": [
    "import matplotlib.pyplot as plt #导入作图库\n",
    "import seaborn as sns\n",
    "\n",
    "sns.heatmap(TTIE, cmap='Blues')\n",
    "plt.show()"
   ]
  },
  {
   "cell_type": "code",
   "execution_count": 13,
   "metadata": {},
   "outputs": [],
   "source": [
    "fr  = open('./new_sub/TTIE_matrix.txt', 'w')\n",
    "for i in range(64):\n",
    "    for j in range(64):\n",
    "        fr.write(str(TTIE[i,j]) + ' ')\n",
    "    fr.write('\\n')\n",
    "fr.close()"
   ]
  },
  {
   "cell_type": "code",
   "execution_count": 3,
   "metadata": {},
   "outputs": [],
   "source": [
    "a = [1,2,3]\n",
    "b = a[2:3]"
   ]
  },
  {
   "cell_type": "code",
   "execution_count": 4,
   "metadata": {},
   "outputs": [
    {
     "data": {
      "text/plain": [
       "[3]"
      ]
     },
     "execution_count": 4,
     "metadata": {},
     "output_type": "execute_result"
    }
   ],
   "source": [
    "b"
   ]
  },
  {
   "cell_type": "code",
   "execution_count": 5,
   "metadata": {},
   "outputs": [
    {
     "name": "stdout",
     "output_type": "stream",
     "text": [
      "3\n",
      "4\n",
      "5\n",
      "6\n",
      "7\n",
      "8\n",
      "9\n",
      "10\n",
      "11\n",
      "12\n",
      "13\n",
      "14\n",
      "15\n",
      "16\n",
      "17\n",
      "18\n",
      "19\n",
      "20\n",
      "21\n",
      "22\n",
      "23\n",
      "24\n",
      "25\n",
      "26\n",
      "27\n",
      "28\n",
      "29\n",
      "30\n",
      "31\n",
      "32\n",
      "33\n",
      "34\n",
      "35\n",
      "36\n",
      "37\n",
      "38\n",
      "39\n",
      "40\n",
      "41\n",
      "42\n",
      "43\n",
      "44\n",
      "45\n",
      "46\n",
      "47\n",
      "48\n"
     ]
    }
   ],
   "source": [
    "for i in range(46):\n",
    "    print(i+3)"
   ]
  },
  {
   "cell_type": "code",
   "execution_count": null,
   "metadata": {},
   "outputs": [],
   "source": []
  }
 ],
 "metadata": {
  "kernelspec": {
   "display_name": "Python 3",
   "language": "python",
   "name": "python3"
  },
  "language_info": {
   "codemirror_mode": {
    "name": "ipython",
    "version": 3
   },
   "file_extension": ".py",
   "mimetype": "text/x-python",
   "name": "python",
   "nbconvert_exporter": "python",
   "pygments_lexer": "ipython3",
   "version": "3.7.1"
  }
 },
 "nbformat": 4,
 "nbformat_minor": 2
}
