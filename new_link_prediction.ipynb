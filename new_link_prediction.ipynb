{
 "cells": [
  {
   "cell_type": "code",
   "execution_count": 1,
   "metadata": {},
   "outputs": [],
   "source": [
    "import numpy as np\n",
    "from tqdm import tqdm"
   ]
  },
  {
   "cell_type": "code",
   "execution_count": 2,
   "metadata": {},
   "outputs": [],
   "source": [
    "def link_prediction(TTM_file, TTIE_file, sub_1, sub_2, network_size):\n",
    "    ad_matrix1 = np.zeros((network_size, network_size))\n",
    "    ad_matrix2 = np.zeros((network_size, network_size))\n",
    "    \n",
    "    fr_1 = open(sub_1)\n",
    "    for line in fr_1.readlines():\n",
    "        arr_line = line.strip().split('\\t')\n",
    "        node_1 = int(arr_line[0])\n",
    "        node_2 = int(arr_line[1])\n",
    "        ad_matrix1[node_1, node_2] = 1\n",
    "    \n",
    "    link_set = []\n",
    "    fr_2 = open(sub_2)\n",
    "    for line in fr_2.readlines():\n",
    "        arr_line = line.strip().split('\\t')\n",
    "        node_1 = int(arr_line[0])\n",
    "        node_2 = int(arr_line[1])\n",
    "        ad_matrix2[node_1, node_2] = 1 \n",
    "        link_set.append([node_1, node_2])\n",
    "        \n",
    "    TTM = np.zeros((64, 64))\n",
    "    fr_3 = open(TTM_file)\n",
    "    index = 0\n",
    "    for line in fr_3.readlines():\n",
    "        \n",
    "        arr_line = line.strip().split()\n",
    "        for i in range(64):\n",
    "            TTM[index, i] = float(arr_line[i])\n",
    "        index += 1\n",
    "    \n",
    "    TTIE = np.zeros((64, 64))\n",
    "    np.random.seed(2)\n",
    "    fr_4 = open(TTIE_file)\n",
    "    index = 0\n",
    "    for line in fr_4.readlines():\n",
    "        arr_line = line.strip().split()\n",
    "        for i in range(64):\n",
    "            TTIE[index, i] = float(arr_line[i])\n",
    "        index += 1\n",
    "    \n",
    "    AUC = 0\n",
    "    \n",
    "    for i in tqdm(range(len(link_set))):\n",
    "#     for i in range(len(link_set)):\n",
    "        index = i\n",
    "        \n",
    "    \n",
    "#     for i in tqdm(range(N)):\n",
    "#         index = np.random.randint(0, len(link_set))\n",
    "        node_a = link_set[index][0]\n",
    "        node_b = link_set[index][1]\n",
    "        score_ab = 0\n",
    "        \n",
    "        for node_c in range(network_size):\n",
    "            node_list = [node_a, node_b, node_c]\n",
    "            node_list.sort()\n",
    "            id_1 = int(ad_matrix1[node_list[0],node_list[2]] + ad_matrix1[node_list[1],node_list[2]]*2 + ad_matrix1[node_list[2],node_list[0]]*4 + ad_matrix1[node_list[1],node_list[0]]*8 + ad_matrix1[node_list[2],node_list[1]] *16 + ad_matrix1[node_list[0],node_list[1]]*32)\n",
    "            if node_a > node_b :\n",
    "                if node_c<node_b:\n",
    "                    for x in range(64):\n",
    "                        dd = 0b100000\n",
    "                        if (x&dd) == dd:\n",
    "                            score_ab += TTM[id_1, x] * TTIE[id_1, x]\n",
    "                if node_c > node_a:\n",
    "                    for x in range(64):\n",
    "                        dd = 0b000010\n",
    "                        if (x&dd) == dd:\n",
    "                            score_ab += TTM[id_1, x] * TTIE[id_1, x]\n",
    "                if node_c < node_a and node_c > node_b:\n",
    "                    for x in range(64):\n",
    "                        dd = 0b000001\n",
    "                        if (x&dd) == dd:\n",
    "                            score_ab += TTM[id_1, x] * TTIE[id_1, x]\n",
    "            else:\n",
    "                if node_c < node_a:\n",
    "                    for x in range(64):\n",
    "                        dd = 0b001000\n",
    "                        if (x&dd) == dd:\n",
    "                            score_ab += TTM[id_1, x]\n",
    "                if node_c > node_b:\n",
    "                    for x in range(64):\n",
    "                        dd = 0b010000\n",
    "                        if (x&dd) == dd:\n",
    "                            score_ab += TTM[id_1, x]\n",
    "                if node_c < node_b and node_c > node_a:\n",
    "                    for x in range(64):\n",
    "                        dd = 0b000100\n",
    "                        if (x&dd) == dd:\n",
    "                            score_ab += TTM[id_1, x]\n",
    "        \n",
    "        score_de = 0\n",
    "        flag = True\n",
    "        node_d, node_e = 0, 0\n",
    "        while(flag):\n",
    "            node_d = np.random.randint(0, network_size)\n",
    "            node_e = np.random.randint(0, network_size)\n",
    "            if node_d != node_e and ad_matrix2[node_d, node_e] == 0:\n",
    "                flag = False\n",
    "        for node_f in range(network_size):\n",
    "            node_list = [node_d, node_e, node_f]\n",
    "            node_list.sort()\n",
    "            id_1 = int(ad_matrix1[node_list[0],node_list[2]] + ad_matrix1[node_list[1],node_list[2]]*2 + ad_matrix1[node_list[2],node_list[0]]*4 + ad_matrix1[node_list[1],node_list[0]]*8 + ad_matrix1[node_list[2],node_list[1]] *16 + ad_matrix1[node_list[0],node_list[1]]*32)\n",
    "            if node_d > node_e:\n",
    "                if node_f< node_e:\n",
    "                    for x in range(64):\n",
    "                        dd = 0b100000\n",
    "                        if (x&dd) == dd:\n",
    "                            score_de += TTM[id_1, x] * TTIE[id_1, x]\n",
    "                if node_f > node_d:\n",
    "                    for x in range(64):\n",
    "                        dd = 0b000010\n",
    "                        if (x&dd) == dd:\n",
    "                            score_de += TTM[id_1, x] * TTIE[id_1, x]\n",
    "                if node_f < node_d and node_f > node_e:\n",
    "                    for x in range(64):\n",
    "                        dd = 0b000001\n",
    "                        if (x&dd) == dd:\n",
    "                            score_de += TTM[id_1, x] * TTIE[id_1, x]\n",
    "            else:\n",
    "                if node_f < node_d:\n",
    "                    for x in range(64):\n",
    "                        dd = 0b001000\n",
    "                        if (x&dd) == dd:\n",
    "                            score_de += TTM[id_1, x] * TTIE[id_1, x]\n",
    "                if node_f > node_e:\n",
    "                    for x in range(64):\n",
    "                        dd = 0b010000\n",
    "                        if (x&dd) == dd:\n",
    "                            score_de += TTM[id_1, x] * TTIE[id_1, x]\n",
    "                if node_f < node_e and node_f > node_d:\n",
    "                    for x in range(64):\n",
    "                        dd = 0b000100\n",
    "                        if (x&dd) == dd:\n",
    "                            score_de += TTM[id_1, x] * TTIE[id_1, x]\n",
    "                            \n",
    "        if score_ab>score_de:\n",
    "            AUC +=1\n",
    "        if score_ab == score_de:\n",
    "            AUC += 0.5\n",
    "    AUC = AUC / len(link_set)\n",
    "#     AUC = AUC / N\n",
    "    return AUC"
   ]
  },
  {
   "cell_type": "markdown",
   "metadata": {},
   "source": [
    "## 各网络链路预测结果"
   ]
  },
  {
   "cell_type": "code",
   "execution_count": 3,
   "metadata": {},
   "outputs": [
    {
     "name": "stderr",
     "output_type": "stream",
     "text": [
      "100%|██████████| 1451/1451 [02:13<00:00, 10.89it/s]\n"
     ]
    },
    {
     "data": {
      "text/plain": [
       "0.9286698828394211"
      ]
     },
     "execution_count": 3,
     "metadata": {},
     "output_type": "execute_result"
    }
   ],
   "source": [
    "# enron \n",
    "\n",
    "AUC = link_prediction('./predict_TTMs/enron49_50.txt', './TTIE_matrix.txt', './enron_sub/49.txt', './enron_sub/50.txt', 2115)\n",
    "AUC\n"
   ]
  },
  {
   "cell_type": "code",
   "execution_count": 4,
   "metadata": {},
   "outputs": [
    {
     "name": "stderr",
     "output_type": "stream",
     "text": [
      "100%|██████████| 3177/3177 [11:41<00:00,  4.53it/s]\n"
     ]
    },
    {
     "data": {
      "text/plain": [
       "0.7423670129052565"
      ]
     },
     "execution_count": 4,
     "metadata": {},
     "output_type": "execute_result"
    }
   ],
   "source": [
    "# facebook\n",
    "\n",
    "AUC = link_prediction('./predict_TTMs/facebook8_9.txt', './TTIE_matrix.txt', './facebook_sub/8.txt', './facebook_sub/9.txt', 5111)\n",
    "AUC\n"
   ]
  },
  {
   "cell_type": "code",
   "execution_count": 6,
   "metadata": {},
   "outputs": [
    {
     "name": "stderr",
     "output_type": "stream",
     "text": [
      "100%|██████████| 195/195 [00:16<00:00, 12.07it/s]\n"
     ]
    },
    {
     "data": {
      "text/plain": [
       "0.8589743589743589"
      ]
     },
     "execution_count": 6,
     "metadata": {},
     "output_type": "execute_result"
    }
   ],
   "source": [
    "# col_ms\n",
    "\n",
    "AUC = link_prediction('./predict_TTMs/col24_25.txt', './TTIE_matrix.txt', './col_ms_sub/24.txt', './col_ms_sub/25.txt', 1899)\n",
    "AUC\n"
   ]
  },
  {
   "cell_type": "code",
   "execution_count": 7,
   "metadata": {},
   "outputs": [
    {
     "name": "stderr",
     "output_type": "stream",
     "text": [
      "100%|██████████| 6221/6221 [04:25<00:00, 23.42it/s]\n"
     ]
    },
    {
     "data": {
      "text/plain": [
       "0.9281466002250442"
      ]
     },
     "execution_count": 7,
     "metadata": {},
     "output_type": "execute_result"
    }
   ],
   "source": [
    "# email-eu\n",
    "\n",
    "AUC = link_prediction('./predict_TTMs/email69_70.txt', './TTIE_matrix.txt', './email_eu_sub/69.txt', './email_eu_sub/70.txt', 1005)\n",
    "\n",
    "AUC"
   ]
  },
  {
   "cell_type": "markdown",
   "metadata": {},
   "source": [
    "## Enron 连续链路预测结果"
   ]
  },
  {
   "cell_type": "code",
   "execution_count": 8,
   "metadata": {},
   "outputs": [
    {
     "name": "stderr",
     "output_type": "stream",
     "text": [
      "100%|██████████| 4240/4240 [06:19<00:00, 11.17it/s]\n",
      "  0%|          | 0/4844 [00:00<?, ?it/s]"
     ]
    },
    {
     "name": "stdout",
     "output_type": "stream",
     "text": [
      "0.9349056603773584\n"
     ]
    },
    {
     "name": "stderr",
     "output_type": "stream",
     "text": [
      "100%|██████████| 4844/4844 [07:29<00:00, 10.78it/s]\n",
      "  0%|          | 0/4002 [00:00<?, ?it/s]"
     ]
    },
    {
     "name": "stdout",
     "output_type": "stream",
     "text": [
      "0.9323905862923204\n"
     ]
    },
    {
     "name": "stderr",
     "output_type": "stream",
     "text": [
      "100%|██████████| 4002/4002 [06:12<00:00, 10.75it/s]\n",
      "  0%|          | 2/3294 [00:00<04:43, 11.59it/s]"
     ]
    },
    {
     "name": "stdout",
     "output_type": "stream",
     "text": [
      "0.949400299850075\n"
     ]
    },
    {
     "name": "stderr",
     "output_type": "stream",
     "text": [
      "100%|██████████| 3294/3294 [05:04<00:00, 10.81it/s]\n",
      "  0%|          | 1/4371 [00:00<07:19,  9.94it/s]"
     ]
    },
    {
     "name": "stdout",
     "output_type": "stream",
     "text": [
      "0.9359441408621737\n"
     ]
    },
    {
     "name": "stderr",
     "output_type": "stream",
     "text": [
      "100%|██████████| 4371/4371 [06:34<00:00, 11.07it/s]\n",
      "  0%|          | 0/3123 [00:00<?, ?it/s]"
     ]
    },
    {
     "name": "stdout",
     "output_type": "stream",
     "text": [
      "0.9378860672614963\n"
     ]
    },
    {
     "name": "stderr",
     "output_type": "stream",
     "text": [
      "100%|██████████| 3123/3123 [04:42<00:00, 11.06it/s]\n",
      "  0%|          | 0/3116 [00:00<?, ?it/s]"
     ]
    },
    {
     "name": "stdout",
     "output_type": "stream",
     "text": [
      "0.9293948126801153\n"
     ]
    },
    {
     "name": "stderr",
     "output_type": "stream",
     "text": [
      "100%|██████████| 3116/3116 [04:41<00:00, 11.06it/s]\n",
      "  0%|          | 2/1162 [00:00<01:35, 12.21it/s]"
     ]
    },
    {
     "name": "stdout",
     "output_type": "stream",
     "text": [
      "0.9098202824133504\n"
     ]
    },
    {
     "name": "stderr",
     "output_type": "stream",
     "text": [
      "100%|██████████| 1162/1162 [01:45<00:00, 10.99it/s]\n",
      "  0%|          | 2/1221 [00:00<01:40, 12.19it/s]"
     ]
    },
    {
     "name": "stdout",
     "output_type": "stream",
     "text": [
      "0.9156626506024096\n"
     ]
    },
    {
     "name": "stderr",
     "output_type": "stream",
     "text": [
      "100%|██████████| 1221/1221 [01:49<00:00, 11.14it/s]\n",
      "  0%|          | 1/1451 [00:00<02:25,  9.96it/s]"
     ]
    },
    {
     "name": "stdout",
     "output_type": "stream",
     "text": [
      "0.9307944307944308\n"
     ]
    },
    {
     "name": "stderr",
     "output_type": "stream",
     "text": [
      "100%|██████████| 1451/1451 [02:12<00:00, 10.94it/s]"
     ]
    },
    {
     "name": "stdout",
     "output_type": "stream",
     "text": [
      "0.9286698828394211\n"
     ]
    },
    {
     "name": "stderr",
     "output_type": "stream",
     "text": [
      "\n"
     ]
    }
   ],
   "source": [
    "for i in range(40, 50):\n",
    "    TTM_file = \"./predict_TTMS/enron\" + str(i) + \"_\" + str(i+1) + \".txt\"\n",
    "    TTIE_file = './TTIE_matrix.txt'\n",
    "    sub_1 = './enron_sub/'+ str(i) + '.txt'\n",
    "    sub_2 = './enron_sub/' + str(i+1) + '.txt'\n",
    "    AUC = link_prediction(TTM_file, TTIE_file, sub_1, sub_2, 2115)\n",
    "    print(AUC)\n",
    "    "
   ]
  },
  {
   "cell_type": "code",
   "execution_count": 10,
   "metadata": {},
   "outputs": [
    {
     "name": "stderr",
     "output_type": "stream",
     "text": [
      "100%|██████████| 996/996 [00:08<00:00, 121.48it/s]\n",
      "  1%|          | 14/1394 [00:00<00:10, 132.84it/s]"
     ]
    },
    {
     "name": "stdout",
     "output_type": "stream",
     "text": [
      "0.9036144578313253\n"
     ]
    },
    {
     "name": "stderr",
     "output_type": "stream",
     "text": [
      "100%|██████████| 1394/1394 [00:11<00:00, 120.23it/s]\n",
      "  1%|          | 13/1394 [00:00<00:10, 127.97it/s]"
     ]
    },
    {
     "name": "stdout",
     "output_type": "stream",
     "text": [
      "0.8593974175035868\n"
     ]
    },
    {
     "name": "stderr",
     "output_type": "stream",
     "text": [
      "100%|██████████| 1394/1394 [00:11<00:00, 119.99it/s]\n",
      "  1%|          | 14/1394 [00:00<00:10, 131.21it/s]"
     ]
    },
    {
     "name": "stdout",
     "output_type": "stream",
     "text": [
      "0.9218077474892395\n"
     ]
    },
    {
     "name": "stderr",
     "output_type": "stream",
     "text": [
      "100%|██████████| 1394/1394 [00:11<00:00, 120.11it/s]\n",
      "  1%|          | 14/1394 [00:00<00:10, 131.24it/s]"
     ]
    },
    {
     "name": "stdout",
     "output_type": "stream",
     "text": [
      "0.9239598278335724\n"
     ]
    },
    {
     "name": "stderr",
     "output_type": "stream",
     "text": [
      "100%|██████████| 1394/1394 [00:11<00:00, 120.11it/s]\n",
      "  1%|          | 14/1279 [00:00<00:09, 133.38it/s]"
     ]
    },
    {
     "name": "stdout",
     "output_type": "stream",
     "text": [
      "0.926829268292683\n"
     ]
    },
    {
     "name": "stderr",
     "output_type": "stream",
     "text": [
      "100%|██████████| 1279/1279 [00:10<00:00, 120.77it/s]\n",
      "  1%|          | 14/1279 [00:00<00:09, 130.44it/s]"
     ]
    },
    {
     "name": "stdout",
     "output_type": "stream",
     "text": [
      "0.7146207974980453\n"
     ]
    },
    {
     "name": "stderr",
     "output_type": "stream",
     "text": [
      "100%|██████████| 1279/1279 [00:10<00:00, 120.64it/s]\n",
      "  1%|          | 13/1279 [00:00<00:09, 128.23it/s]"
     ]
    },
    {
     "name": "stdout",
     "output_type": "stream",
     "text": [
      "0.9296325254104769\n"
     ]
    },
    {
     "name": "stderr",
     "output_type": "stream",
     "text": [
      "100%|██████████| 1279/1279 [00:10<00:00, 120.39it/s]\n",
      "  1%|          | 14/1279 [00:00<00:09, 130.65it/s]"
     ]
    },
    {
     "name": "stdout",
     "output_type": "stream",
     "text": [
      "0.9093041438623924\n"
     ]
    },
    {
     "name": "stderr",
     "output_type": "stream",
     "text": [
      "100%|██████████| 1279/1279 [00:10<00:00, 120.13it/s]"
     ]
    },
    {
     "name": "stdout",
     "output_type": "stream",
     "text": [
      "0.9179046129788898\n"
     ]
    },
    {
     "name": "stderr",
     "output_type": "stream",
     "text": [
      "\n"
     ]
    }
   ],
   "source": [
    "# artificial network\n",
    "for i in range(3, 12):\n",
    "    TTM_file = \"./predict_TTMS/art\" + str(i) + \"_\" + str(i+1) + \".txt\"\n",
    "    TTIE_file = './TTIE_matrix.txt'\n",
    "    sub_1 = './art_sub/'+ str(i) + '.txt'\n",
    "    sub_2 = './art_sub/' + str(i+1) + '.txt'\n",
    "    AUC = link_prediction(TTM_file, TTIE_file, sub_1, sub_2, 200)\n",
    "    print(AUC)"
   ]
  },
  {
   "cell_type": "code",
   "execution_count": null,
   "metadata": {},
   "outputs": [],
   "source": []
  }
 ],
 "metadata": {
  "kernelspec": {
   "display_name": "Python 3",
   "language": "python",
   "name": "python3"
  },
  "language_info": {
   "codemirror_mode": {
    "name": "ipython",
    "version": 3
   },
   "file_extension": ".py",
   "mimetype": "text/x-python",
   "name": "python",
   "nbconvert_exporter": "python",
   "pygments_lexer": "ipython3",
   "version": "3.7.7"
  }
 },
 "nbformat": 4,
 "nbformat_minor": 4
}
